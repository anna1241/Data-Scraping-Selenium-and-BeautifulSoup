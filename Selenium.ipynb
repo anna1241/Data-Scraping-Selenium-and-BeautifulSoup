{
  "nbformat": 4,
  "nbformat_minor": 0,
  "metadata": {
    "colab": {
      "provenance": []
    },
    "kernelspec": {
      "name": "python3",
      "display_name": "Python 3"
    },
    "language_info": {
      "name": "python"
    }
  },
  "cells": [
    {
      "cell_type": "markdown",
      "source": [
        "# **Data Scraping**"
      ],
      "metadata": {
        "id": "SwGtrNgP1fMA"
      }
    },
    {
      "cell_type": "markdown",
      "source": [
        "### **Selenium**"
      ],
      "metadata": {
        "id": "VnUHFHN91sqR"
      }
    },
    {
      "cell_type": "code",
      "source": [
        "!pip install selenium"
      ],
      "metadata": {
        "id": "7vcIfdKE2qLd",
        "colab": {
          "base_uri": "https://localhost:8080/"
        },
        "outputId": "da143cfc-67ba-48d4-e177-0a1e05884d57"
      },
      "execution_count": null,
      "outputs": [
        {
          "output_type": "stream",
          "name": "stdout",
          "text": [
            "Collecting selenium\n",
            "  Downloading selenium-4.14.0-py3-none-any.whl (9.9 MB)\n",
            "\u001b[?25l     \u001b[90m━━━━━━━━━━━━━━━━━━━━━━━━━━━━━━━━━━━━━━━━\u001b[0m \u001b[32m0.0/9.9 MB\u001b[0m \u001b[31m?\u001b[0m eta \u001b[36m-:--:--\u001b[0m\r\u001b[2K     \u001b[91m╸\u001b[0m\u001b[90m━━━━━━━━━━━━━━━━━━━━━━━━━━━━━━━━━━━━━━━\u001b[0m \u001b[32m0.2/9.9 MB\u001b[0m \u001b[31m5.9 MB/s\u001b[0m eta \u001b[36m0:00:02\u001b[0m\r\u001b[2K     \u001b[91m━━━━━━━\u001b[0m\u001b[91m╸\u001b[0m\u001b[90m━━━━━━━━━━━━━━━━━━━━━━━━━━━━━━━━\u001b[0m \u001b[32m1.9/9.9 MB\u001b[0m \u001b[31m27.2 MB/s\u001b[0m eta \u001b[36m0:00:01\u001b[0m\r\u001b[2K     \u001b[91m━━━━━━━━━━━━━━━━━━━━━━━━━━━━━━━━━━━━━\u001b[0m\u001b[90m╺\u001b[0m\u001b[90m━━\u001b[0m \u001b[32m9.3/9.9 MB\u001b[0m \u001b[31m89.9 MB/s\u001b[0m eta \u001b[36m0:00:01\u001b[0m\r\u001b[2K     \u001b[90m━━━━━━━━━━━━━━━━━━━━━━━━━━━━━━━━━━━━━━━━\u001b[0m \u001b[32m9.9/9.9 MB\u001b[0m \u001b[31m72.0 MB/s\u001b[0m eta \u001b[36m0:00:00\u001b[0m\n",
            "\u001b[?25hRequirement already satisfied: urllib3[socks]<3,>=1.26 in /usr/local/lib/python3.10/dist-packages (from selenium) (2.0.6)\n",
            "Collecting trio~=0.17 (from selenium)\n",
            "  Downloading trio-0.22.2-py3-none-any.whl (400 kB)\n",
            "\u001b[2K     \u001b[90m━━━━━━━━━━━━━━━━━━━━━━━━━━━━━━━━━━━━━━\u001b[0m \u001b[32m400.2/400.2 kB\u001b[0m \u001b[31m43.5 MB/s\u001b[0m eta \u001b[36m0:00:00\u001b[0m\n",
            "\u001b[?25hCollecting trio-websocket~=0.9 (from selenium)\n",
            "  Downloading trio_websocket-0.11.1-py3-none-any.whl (17 kB)\n",
            "Requirement already satisfied: certifi>=2021.10.8 in /usr/local/lib/python3.10/dist-packages (from selenium) (2023.7.22)\n",
            "Requirement already satisfied: attrs>=20.1.0 in /usr/local/lib/python3.10/dist-packages (from trio~=0.17->selenium) (23.1.0)\n",
            "Requirement already satisfied: sortedcontainers in /usr/local/lib/python3.10/dist-packages (from trio~=0.17->selenium) (2.4.0)\n",
            "Requirement already satisfied: idna in /usr/local/lib/python3.10/dist-packages (from trio~=0.17->selenium) (3.4)\n",
            "Collecting outcome (from trio~=0.17->selenium)\n",
            "  Downloading outcome-1.2.0-py2.py3-none-any.whl (9.7 kB)\n",
            "Requirement already satisfied: sniffio in /usr/local/lib/python3.10/dist-packages (from trio~=0.17->selenium) (1.3.0)\n",
            "Requirement already satisfied: exceptiongroup>=1.0.0rc9 in /usr/local/lib/python3.10/dist-packages (from trio~=0.17->selenium) (1.1.3)\n",
            "Collecting wsproto>=0.14 (from trio-websocket~=0.9->selenium)\n",
            "  Downloading wsproto-1.2.0-py3-none-any.whl (24 kB)\n",
            "Requirement already satisfied: pysocks!=1.5.7,<2.0,>=1.5.6 in /usr/local/lib/python3.10/dist-packages (from urllib3[socks]<3,>=1.26->selenium) (1.7.1)\n",
            "Collecting h11<1,>=0.9.0 (from wsproto>=0.14->trio-websocket~=0.9->selenium)\n",
            "  Downloading h11-0.14.0-py3-none-any.whl (58 kB)\n",
            "\u001b[2K     \u001b[90m━━━━━━━━━━━━━━━━━━━━━━━━━━━━━━━━━━━━━━━━\u001b[0m \u001b[32m58.3/58.3 kB\u001b[0m \u001b[31m8.1 MB/s\u001b[0m eta \u001b[36m0:00:00\u001b[0m\n",
            "\u001b[?25hInstalling collected packages: outcome, h11, wsproto, trio, trio-websocket, selenium\n",
            "Successfully installed h11-0.14.0 outcome-1.2.0 selenium-4.14.0 trio-0.22.2 trio-websocket-0.11.1 wsproto-1.2.0\n"
          ]
        }
      ]
    },
    {
      "cell_type": "code",
      "execution_count": null,
      "metadata": {
        "id": "AK9ilNlJ1cDh"
      },
      "outputs": [],
      "source": [
        "import selenium\n",
        "from selenium import webdriver\n",
        "from selenium.webdriver.common.keys import Keys\n",
        "from selenium.webdriver.chrome.service import Service\n",
        "from selenium.webdriver.common.by import By\n",
        "import pandas as pd\n",
        "import time\n",
        "from scipy import stats\n",
        "from datetime import datetime\n",
        "import matplotlib.pyplot as plt"
      ]
    },
    {
      "cell_type": "code",
      "source": [
        "# will resolve driver compatibility issues\n",
        "def web_driver():\n",
        "    options = webdriver.ChromeOptions()\n",
        "    options.add_argument(\"--verbose\")\n",
        "    options.add_argument('--no-sandbox')\n",
        "    options.add_argument('--headless')\n",
        "    options.add_argument('--disable-gpu')\n",
        "    options.add_argument(\"--window-size=1920, 1200\")\n",
        "    options.add_argument('--disable-dev-shm-usage')\n",
        "    driver = webdriver.Chrome(options=options)\n",
        "    return driver"
      ],
      "metadata": {
        "id": "WhkXqc6b2d1J"
      },
      "execution_count": null,
      "outputs": []
    },
    {
      "cell_type": "code",
      "source": [
        "driver = web_driver()"
      ],
      "metadata": {
        "id": "vDrzMbEa22d6"
      },
      "execution_count": null,
      "outputs": []
    },
    {
      "cell_type": "code",
      "source": [
        "driver.get(\"https://www.youtube.com/@UnfoldDataScience\")"
      ],
      "metadata": {
        "id": "JVeBP4VE271V"
      },
      "execution_count": null,
      "outputs": []
    },
    {
      "cell_type": "code",
      "source": [
        "import time\n",
        "import pandas as pd\n",
        "from selenium import webdriver\n",
        "from selenium.webdriver.common.by import By\n",
        "from selenium.webdriver.chrome.service import Service as ChromeService"
      ],
      "metadata": {
        "id": "_Hbeofv5LR1o"
      },
      "execution_count": null,
      "outputs": []
    },
    {
      "cell_type": "code",
      "source": [
        "channel_url = \"https://www.youtube.com/@UnfoldDataScience\"\n",
        "chrome_service = ChromeService(\"path/to/chromedriver\")  # Replace with the path to your ChromeDriver executable\n",
        "\n",
        "def scroll_down():\n",
        "    driver.execute_script(\"window.scrollTo(0, document.documentElement.scrollHeight);\")\n",
        "    time.sleep(2)\n",
        "\n",
        "def scrape_video_info(video_element):\n",
        "    title = video_element.find_element(By.ID, \"video-title\").get_attribute(\"title\")\n",
        "    views = int(video_element.find_element(By.CLASS_NAME, \"style-scope ytd-grid-video-renderer\").text.split()[0].replace(\",\", \"\"))\n",
        "    likes = int(video_element.find_element(By.CLASS_NAME, \"style-scope ytd-grid-video-renderer\").text.split()[2].replace(\",\", \"\"))\n",
        "    upload_date = video_element.find_element(By.CLASS_NAME, \"style-scope ytd-grid-video-renderer\").text.split()[-1]\n",
        "    comments = int(video_element.find_element(By.CLASS_NAME, \"style-scope ytd-grid-video-renderer\").text.split()[-3].replace(\",\", \"\"))\n",
        "    return {\"Title\": title, \"Views\": views, \"Likes\": likes, \"Upload Date\": upload_date, \"Comments\": comments}\n",
        "\n",
        "driver.get(\"https://www.youtube.com/@UnfoldDataScience\")\n",
        "time.sleep(5)\n",
        "\n",
        "scroll_down()\n",
        "\n",
        "video_elements = driver.find_elements(By.ID, \"dismissable\")\n",
        "\n",
        "filtered_videos = []\n",
        "for video_element in video_elements:\n",
        "    video_info = scrape_video_info(video_element)\n",
        "    upload_date = pd.to_datetime(video_info[\"Upload Date\"])\n",
        "    if pd.Timestamp(\"2019-09-10\") <= upload_date <= pd.Timestamp(\"2023-09-10\"):\n",
        "        filtered_videos.append(video_info)\n",
        "\n",
        "df = pd.DataFrame(filtered_videos)\n",
        "\n",
        "df.to_csv(\"youtube_data.csv\", index=False)\n",
        "\n",
        "driver.quit()"
      ],
      "metadata": {
        "id": "n8RBouMeEpVw"
      },
      "execution_count": null,
      "outputs": []
    },
    {
      "cell_type": "code",
      "source": [
        "def calculate_average_views_last_30_days(df):\n",
        "    current_date = datetime.now()\n",
        "    last_30_days = current_date - pd.DateOffset(days=30)\n",
        "    recent_videos = df[pd.to_datetime(df[\"Upload Date\"]) >= last_30_days]\n",
        "    average_views = recent_videos[\"Views\"].mean()\n",
        "    return average_views"
      ],
      "metadata": {
        "id": "60n5m4wWKxwz"
      },
      "execution_count": null,
      "outputs": []
    },
    {
      "cell_type": "code",
      "source": [
        "def find_video_with_highest_ratio(df):\n",
        "    df[\"Likes-to-Views Ratio\"] = df[\"Likes\"] / df[\"Views\"]\n",
        "    video_with_highest_ratio = df[df[\"Likes-to-Views Ratio\"] == df[\"Likes-to-Views Ratio\"].max()]\n",
        "    return video_with_highest_ratio"
      ],
      "metadata": {
        "id": "wQBC5k32L11M"
      },
      "execution_count": null,
      "outputs": []
    },
    {
      "cell_type": "code",
      "source": [
        "def find_likes_dislikes_correlation(df):\n",
        "    correlation = df[\"Likes\"].corr(df[\"Comments\"])\n",
        "    return correlation"
      ],
      "metadata": {
        "id": "BNGp5-8xL4Tv"
      },
      "execution_count": null,
      "outputs": []
    },
    {
      "cell_type": "code",
      "source": [
        "def find_most_common_upload_day(df):\n",
        "    df[\"Upload Date\"] = pd.to_datetime(df[\"Upload Date\"])\n",
        "    df[\"Upload Day\"] = df[\"Upload Date\"].dt.day_name()\n",
        "    most_common_day = df[\"Upload Day\"].mode()[0]\n",
        "    return most_common_day"
      ],
      "metadata": {
        "id": "tM7AIpm1L6rs"
      },
      "execution_count": null,
      "outputs": []
    },
    {
      "cell_type": "code",
      "source": [
        "def detect_view_count_outliers(df):\n",
        "    z_scores = stats.zscore(df[\"Views\"])\n",
        "    outliers = df[abs(z_scores) > 3]\n",
        "    return outliers"
      ],
      "metadata": {
        "id": "c93AMCCaMAvX"
      },
      "execution_count": null,
      "outputs": []
    },
    {
      "cell_type": "code",
      "source": [
        "def load_data(file_path):\n",
        "    return pd.read_csv(file_path)"
      ],
      "metadata": {
        "id": "E8Brr2tUOL-Z"
      },
      "execution_count": null,
      "outputs": []
    },
    {
      "cell_type": "code",
      "source": [
        "if __name__ == \"__main__\":\n",
        "    youtube_data = load_data(\"youtube_data.csv\")\n",
        "\n",
        "    average_views_last_30_days = calculate_average_views_last_30_days(youtube_data)\n",
        "    print(f\"Average views count per video in the last 30 days: {average_views_last_30_days:.2f}\")\n",
        "\n",
        "    highest_ratio_video = find_video_with_highest_ratio(youtube_data)\n",
        "    print(\"Video with the highest likes-to-views ratio:\")\n",
        "    print(highest_ratio_video[[\"Title\", \"Likes-to-Views Ratio\"]])\n",
        "\n",
        "    likes_comments_correlation = find_likes_dislikes_correlation(youtube_data)\n",
        "    print(f\"Correlation between likes and comments: {likes_comments_correlation:.2f}\")\n",
        "\n",
        "    most_common_day = find_most_common_upload_day(youtube_data)\n",
        "    print(f\"Most common day of the week for video uploads: {most_common_day}\")\n",
        "\n",
        "    view_count_outliers = detect_view_count_outliers(youtube_data)\n",
        "    print(\"Outliers in views count:\")\n",
        "    print(view_count_outliers[[\"Title\", \"Views\"]])\n",
        "\n",
        "    plt.boxplot(youtube_data[\"Views\"])\n",
        "    plt.title(\"View Count Boxplot\")\n",
        "    plt.show()"
      ],
      "metadata": {
        "id": "VwuQx7JFMBh9"
      },
      "execution_count": null,
      "outputs": []
    }
  ]
}